{
 "cells": [
  {
   "cell_type": "code",
   "execution_count": 1,
   "metadata": {
    "id": "9wvhY1O_SWl9"
   },
   "outputs": [],
   "source": [
    "import numpy as np\n",
    "import cv2"
   ]
  },
  {
   "cell_type": "code",
   "execution_count": 2,
   "metadata": {
    "id": "_IYtM9k3s8sB"
   },
   "outputs": [],
   "source": [
    "with_mask = np.load('with_mask.npy')\n",
    "without_mask = np.load('without_mask.npy')"
   ]
  },
  {
   "cell_type": "code",
   "execution_count": 3,
   "metadata": {
    "id": "YPcHlK-y0byl"
   },
   "outputs": [
    {
     "data": {
      "text/plain": [
       "(200, 50, 50, 3)"
      ]
     },
     "execution_count": 3,
     "metadata": {},
     "output_type": "execute_result"
    }
   ],
   "source": [
    "with_mask.shape"
   ]
  },
  {
   "cell_type": "code",
   "execution_count": 4,
   "metadata": {
    "id": "vm7Rt-Tq-RMM"
   },
   "outputs": [
    {
     "data": {
      "text/plain": [
       "(200, 50, 50, 3)"
      ]
     },
     "execution_count": 4,
     "metadata": {},
     "output_type": "execute_result"
    }
   ],
   "source": [
    "without_mask.shape"
   ]
  },
  {
   "cell_type": "code",
   "execution_count": 5,
   "metadata": {
    "id": "f95EfSeT-c-K"
   },
   "outputs": [],
   "source": [
    "with_mask = with_mask.reshape(200,50*50*3)"
   ]
  },
  {
   "cell_type": "code",
   "execution_count": 6,
   "metadata": {
    "id": "LemwVyVe-rIo"
   },
   "outputs": [],
   "source": [
    "without_mask = without_mask.reshape(200,50*50*3)\n",
    "# rerunning the same code shape "
   ]
  },
  {
   "cell_type": "code",
   "execution_count": 7,
   "metadata": {
    "id": "cS2AQQPu_S-V"
   },
   "outputs": [
    {
     "data": {
      "text/plain": [
       "(200, 7500)"
      ]
     },
     "execution_count": 7,
     "metadata": {},
     "output_type": "execute_result"
    }
   ],
   "source": [
    "with_mask.shape"
   ]
  },
  {
   "cell_type": "code",
   "execution_count": 8,
   "metadata": {
    "id": "SukX8qui_LHa"
   },
   "outputs": [
    {
     "data": {
      "text/plain": [
       "(200, 7500)"
      ]
     },
     "execution_count": 8,
     "metadata": {},
     "output_type": "execute_result"
    }
   ],
   "source": [
    "without_mask.shape"
   ]
  },
  {
   "cell_type": "code",
   "execution_count": 9,
   "metadata": {
    "id": "vL1Ur1hoKOdA"
   },
   "outputs": [],
   "source": [
    "#r is used to concat the rows in numpy \n",
    "x= np.r_[with_mask,without_mask]"
   ]
  },
  {
   "cell_type": "code",
   "execution_count": 10,
   "metadata": {
    "id": "oXl4oV2-KgPZ"
   },
   "outputs": [
    {
     "data": {
      "text/plain": [
       "(400, 7500)"
      ]
     },
     "execution_count": 10,
     "metadata": {},
     "output_type": "execute_result"
    }
   ],
   "source": [
    "x.shape"
   ]
  },
  {
   "cell_type": "code",
   "execution_count": 11,
   "metadata": {
    "id": "6YI4NoZqKjiI"
   },
   "outputs": [],
   "source": [
    "#now the training set is almost preprared. We have to label them \n",
    "labels = np.zeros(x.shape[0])"
   ]
  },
  {
   "cell_type": "code",
   "execution_count": 12,
   "metadata": {
    "id": "1LSOxTO_LBZB"
   },
   "outputs": [],
   "source": [
    "labels[200:] = 1.0 \n",
    "#first 200 dataset will be 0 and next dataset will be 1.0. This is used to identify if we are wearing a mask or not. \n",
    "#If the output is 1 then we are wearing mask. If 0 then we are not wearing mask"
   ]
  },
  {
   "cell_type": "code",
   "execution_count": 13,
   "metadata": {
    "id": "CciG9RnsxCl_"
   },
   "outputs": [],
   "source": [
    "names = {0: 'Mask', 1:'No-Mask'}"
   ]
  },
  {
   "cell_type": "code",
   "execution_count": 14,
   "metadata": {
    "id": "V0WKzYQ5dKc2"
   },
   "outputs": [],
   "source": [
    "# Machine learning techniques - Sklearn - \n",
    "# SVM - Support vector machine \n",
    "# SVC - Support vector classification\n",
    "from sklearn.svm import SVC\n",
    "from sklearn.metrics import accuracy_score"
   ]
  },
  {
   "cell_type": "code",
   "execution_count": 15,
   "metadata": {
    "id": "T1y8-Tmvgc-r"
   },
   "outputs": [],
   "source": [
    "from sklearn.model_selection import train_test_split\n",
    "#importing the training and testing part of the machine learning techniques. Trained part will be useful for training and test part will be useful for testing\n",
    "#train will be used to have some machine learning algo on it and test will be used to measure the performance on that"
   ]
  },
  {
   "cell_type": "code",
   "execution_count": 16,
   "metadata": {
    "id": "sZmq0hrHgntv"
   },
   "outputs": [],
   "source": [
    "x_train, x_test, y_train, y_test = train_test_split(x,labels,test_size=0.25)\n",
    "# we are reserving the 0.75 for performing machine learning and 25% will be for testing"
   ]
  },
  {
   "cell_type": "code",
   "execution_count": 17,
   "metadata": {
    "id": "W8MtcOMXh-fM"
   },
   "outputs": [
    {
     "data": {
      "text/plain": [
       "(300, 7500)"
      ]
     },
     "execution_count": 17,
     "metadata": {},
     "output_type": "execute_result"
    }
   ],
   "source": [
    "x_train.shape"
   ]
  },
  {
   "cell_type": "code",
   "execution_count": 18,
   "metadata": {
    "id": "HkDndd3xoRnh"
   },
   "outputs": [],
   "source": [
    "#Applying dimensionality reduction algorithm\n",
    "#Applying principal component analysis - PCA\n",
    "from sklearn.decomposition import PCA"
   ]
  },
  {
   "cell_type": "code",
   "execution_count": 19,
   "metadata": {
    "id": "jErE1M8tpvfm"
   },
   "outputs": [],
   "source": [
    "pca = PCA(n_components=3)\n",
    "x_train = pca.fit_transform(x_train)"
   ]
  },
  {
   "cell_type": "code",
   "execution_count": 20,
   "metadata": {
    "id": "mGuA1-c2qVlh"
   },
   "outputs": [
    {
     "data": {
      "text/plain": [
       "array([  70.68423253, -426.25082539,  353.49271406])"
      ]
     },
     "execution_count": 20,
     "metadata": {},
     "output_type": "execute_result"
    }
   ],
   "source": [
    "x_train[0]\n",
    "\n",
    "#Problem behind this is using eigen values and eigen vectors"
   ]
  },
  {
   "cell_type": "code",
   "execution_count": 21,
   "metadata": {
    "id": "acC3ZVpyquoS"
   },
   "outputs": [
    {
     "data": {
      "text/plain": [
       "(300, 3)"
      ]
     },
     "execution_count": 21,
     "metadata": {},
     "output_type": "execute_result"
    }
   ],
   "source": [
    "x_train.shape"
   ]
  },
  {
   "cell_type": "code",
   "execution_count": 22,
   "metadata": {
    "id": "RY5eFSD9qws_"
   },
   "outputs": [
    {
     "name": "stderr",
     "output_type": "stream",
     "text": [
      "C:\\Users\\cbharga1\\AppData\\Local\\Continuum\\anaconda3\\lib\\site-packages\\sklearn\\svm\\base.py:196: FutureWarning: The default value of gamma will change from 'auto' to 'scale' in version 0.22 to account better for unscaled features. Set gamma explicitly to 'auto' or 'scale' to avoid this warning.\n",
      "  \"avoid this warning.\", FutureWarning)\n"
     ]
    },
    {
     "data": {
      "text/plain": [
       "SVC(C=1.0, cache_size=200, class_weight=None, coef0=0.0,\n",
       "  decision_function_shape='ovr', degree=3, gamma='auto_deprecated',\n",
       "  kernel='rbf', max_iter=-1, probability=False, random_state=None,\n",
       "  shrinking=True, tol=0.001, verbose=False)"
      ]
     },
     "execution_count": 22,
     "metadata": {},
     "output_type": "execute_result"
    }
   ],
   "source": [
    "svm = SVC()\n",
    "svm.fit(x_train,y_train)"
   ]
  },
  {
   "cell_type": "code",
   "execution_count": 25,
   "metadata": {
    "id": "Fm3CDz7ureVj"
   },
   "outputs": [],
   "source": [
    "x_test = pca.transform(x_test)\n",
    "y_pred = svm.predict(x_test)\n",
    "#on training data we applied the SVM and on the testing data we are checking the accuracy"
   ]
  },
  {
   "cell_type": "code",
   "execution_count": 26,
   "metadata": {
    "id": "1RLLhzQEtbQv"
   },
   "outputs": [
    {
     "data": {
      "text/plain": [
       "0.98"
      ]
     },
     "execution_count": 26,
     "metadata": {},
     "output_type": "execute_result"
    }
   ],
   "source": [
    "accuracy_score(y_test,y_pred)\n",
    "#Comparing the actual test data with the prediction test data"
   ]
  },
  {
   "cell_type": "code",
   "execution_count": 34,
   "metadata": {
    "id": "FwI2a7bKwPKD"
   },
   "outputs": [
    {
     "name": "stdout",
     "output_type": "stream",
     "text": [
      "Mask\n",
      "Mask\n",
      "Mask\n",
      "Mask\n",
      "Mask\n",
      "Mask\n",
      "Mask\n",
      "Mask\n",
      "Mask\n",
      "Mask\n",
      "Mask\n",
      "Mask\n",
      "Mask\n",
      "Mask\n",
      "Mask\n",
      "Mask\n",
      "Mask\n",
      "Mask\n",
      "No-Mask\n",
      "Mask\n",
      "Mask\n",
      "Mask\n",
      "No-Mask\n",
      "Mask\n",
      "Mask\n",
      "Mask\n",
      "Mask\n",
      "Mask\n",
      "Mask\n",
      "Mask\n",
      "Mask\n",
      "Mask\n",
      "Mask\n",
      "Mask\n",
      "Mask\n",
      "No-Mask\n",
      "Mask\n",
      "Mask\n",
      "Mask\n",
      "Mask\n",
      "Mask\n",
      "Mask\n",
      "Mask\n",
      "Mask\n",
      "Mask\n",
      "Mask\n",
      "Mask\n",
      "Mask\n",
      "Mask\n",
      "Mask\n",
      "Mask\n",
      "Mask\n",
      "Mask\n",
      "Mask\n",
      "Mask\n",
      "Mask\n",
      "Mask\n",
      "Mask\n",
      "No-Mask\n",
      "Mask\n",
      "Mask\n",
      "Mask\n",
      "Mask\n",
      "Mask\n",
      "Mask\n",
      "Mask\n",
      "Mask\n",
      "Mask\n",
      "Mask\n",
      "Mask\n",
      "Mask\n",
      "Mask\n",
      "Mask\n",
      "Mask\n",
      "Mask\n",
      "No-Mask\n",
      "Mask\n",
      "Mask\n",
      "Mask\n",
      "Mask\n",
      "Mask\n",
      "Mask\n",
      "Mask\n",
      "Mask\n",
      "Mask\n",
      "Mask\n",
      "Mask\n",
      "Mask\n",
      "Mask\n",
      "Mask\n",
      "Mask\n",
      "No-Mask\n",
      "Mask\n",
      "No-Mask\n",
      "Mask\n",
      "Mask\n",
      "Mask\n",
      "Mask\n",
      "No-Mask\n",
      "Mask\n",
      "Mask\n",
      "Mask\n",
      "Mask\n",
      "Mask\n",
      "Mask\n",
      "No-Mask\n",
      "Mask\n",
      "Mask\n",
      "Mask\n",
      "Mask\n",
      "Mask\n",
      "Mask\n",
      "Mask\n",
      "Mask\n",
      "Mask\n",
      "No-Mask\n",
      "Mask\n",
      "Mask\n",
      "No-Mask\n",
      "Mask\n",
      "No-Mask\n",
      "No-Mask\n",
      "No-Mask\n",
      "No-Mask\n",
      "Mask\n",
      "No-Mask\n",
      "Mask\n",
      "No-Mask\n",
      "Mask\n",
      "No-Mask\n",
      "Mask\n",
      "Mask\n",
      "No-Mask\n",
      "Mask\n",
      "No-Mask\n",
      "No-Mask\n",
      "No-Mask\n",
      "Mask\n",
      "No-Mask\n",
      "No-Mask\n",
      "Mask\n",
      "No-Mask\n",
      "No-Mask\n",
      "No-Mask\n",
      "No-Mask\n",
      "Mask\n",
      "No-Mask\n",
      "No-Mask\n",
      "Mask\n",
      "Mask\n",
      "No-Mask\n",
      "Mask\n",
      "No-Mask\n",
      "No-Mask\n",
      "Mask\n",
      "No-Mask\n",
      "No-Mask\n",
      "Mask\n",
      "No-Mask\n",
      "Mask\n",
      "Mask\n",
      "No-Mask\n",
      "No-Mask\n",
      "Mask\n",
      "Mask\n",
      "Mask\n",
      "No-Mask\n",
      "Mask\n",
      "Mask\n",
      "Mask\n",
      "Mask\n",
      "Mask\n",
      "Mask\n",
      "No-Mask\n",
      "Mask\n",
      "No-Mask\n",
      "Mask\n",
      "Mask\n",
      "No-Mask\n",
      "Mask\n",
      "No-Mask\n",
      "Mask\n",
      "Mask\n",
      "Mask\n",
      "Mask\n",
      "Mask\n",
      "Mask\n",
      "Mask\n",
      "Mask\n",
      "No-Mask\n",
      "No-Mask\n",
      "Mask\n",
      "Mask\n",
      "Mask\n",
      "No-Mask\n",
      "Mask\n",
      "Mask\n",
      "No-Mask\n",
      "No-Mask\n",
      "No-Mask\n",
      "No-Mask\n",
      "No-Mask\n",
      "No-Mask\n",
      "Mask\n",
      "Mask\n",
      "No-Mask\n",
      "Mask\n",
      "No-Mask\n",
      "No-Mask\n",
      "No-Mask\n",
      "No-Mask\n",
      "No-Mask\n",
      "No-Mask\n",
      "No-Mask\n",
      "No-Mask\n",
      "No-Mask\n",
      "No-Mask\n",
      "No-Mask\n",
      "No-Mask\n",
      "No-Mask\n",
      "No-Mask\n",
      "No-Mask\n",
      "No-Mask\n",
      "No-Mask\n",
      "Mask\n",
      "No-Mask\n",
      "Mask\n",
      "No-Mask\n",
      "No-Mask\n",
      "No-Mask\n",
      "No-Mask\n",
      "No-Mask\n",
      "No-Mask\n",
      "No-Mask\n",
      "No-Mask\n",
      "No-Mask\n",
      "No-Mask\n",
      "No-Mask\n",
      "No-Mask\n",
      "No-Mask\n",
      "No-Mask\n",
      "No-Mask\n",
      "No-Mask\n",
      "No-Mask\n",
      "No-Mask\n",
      "No-Mask\n",
      "No-Mask\n",
      "Mask\n",
      "No-Mask\n",
      "Mask\n",
      "Mask\n",
      "Mask\n",
      "Mask\n",
      "Mask\n",
      "Mask\n",
      "Mask\n",
      "Mask\n",
      "No-Mask\n",
      "Mask\n",
      "Mask\n",
      "No-Mask\n",
      "Mask\n",
      "Mask\n",
      "No-Mask\n",
      "Mask\n",
      "No-Mask\n",
      "Mask\n",
      "No-Mask\n",
      "Mask\n",
      "No-Mask\n",
      "Mask\n",
      "No-Mask\n",
      "Mask\n",
      "No-Mask\n",
      "Mask\n",
      "No-Mask\n",
      "No-Mask\n",
      "No-Mask\n",
      "No-Mask\n",
      "Mask\n",
      "No-Mask\n",
      "Mask\n",
      "Mask\n",
      "Mask\n",
      "Mask\n",
      "Mask\n",
      "Mask\n",
      "Mask\n",
      "Mask\n",
      "Mask\n",
      "Mask\n",
      "Mask\n",
      "Mask\n",
      "Mask\n",
      "Mask\n",
      "No-Mask\n",
      "Mask\n",
      "No-Mask\n",
      "Mask\n",
      "No-Mask\n",
      "Mask\n",
      "Mask\n",
      "Mask\n",
      "No-Mask\n",
      "No-Mask\n",
      "No-Mask\n",
      "No-Mask\n",
      "No-Mask\n",
      "No-Mask\n",
      "No-Mask\n",
      "No-Mask\n",
      "Mask\n",
      "Mask\n",
      "Mask\n",
      "No-Mask\n",
      "Mask\n",
      "Mask\n",
      "Mask\n",
      "Mask\n",
      "Mask\n",
      "Mask\n",
      "No-Mask\n",
      "Mask\n",
      "Mask\n",
      "Mask\n",
      "Mask\n",
      "Mask\n",
      "Mask\n",
      "Mask\n",
      "Mask\n",
      "Mask\n",
      "Mask\n",
      "Mask\n",
      "Mask\n",
      "Mask\n",
      "Mask\n",
      "Mask\n",
      "No-Mask\n",
      "Mask\n",
      "Mask\n",
      "Mask\n",
      "No-Mask\n",
      "No-Mask\n",
      "No-Mask\n",
      "No-Mask\n",
      "No-Mask\n",
      "No-Mask\n",
      "Mask\n",
      "Mask\n",
      "Mask\n",
      "Mask\n",
      "No-Mask\n",
      "Mask\n",
      "Mask\n",
      "No-Mask\n",
      "Mask\n",
      "Mask\n",
      "No-Mask\n",
      "Mask\n",
      "Mask\n",
      "Mask\n",
      "Mask\n",
      "Mask\n",
      "Mask\n",
      "Mask\n",
      "Mask\n",
      "Mask\n",
      "Mask\n",
      "Mask\n",
      "Mask\n",
      "Mask\n",
      "No-Mask\n",
      "Mask\n",
      "Mask\n",
      "Mask\n",
      "Mask\n",
      "Mask\n",
      "Mask\n",
      "Mask\n",
      "Mask\n",
      "Mask\n",
      "Mask\n",
      "Mask\n",
      "Mask\n",
      "Mask\n",
      "Mask\n",
      "Mask\n",
      "Mask\n",
      "Mask\n",
      "Mask\n",
      "Mask\n",
      "Mask\n",
      "Mask\n",
      "Mask\n",
      "Mask\n",
      "Mask\n",
      "Mask\n",
      "Mask\n",
      "Mask\n",
      "Mask\n",
      "Mask\n",
      "Mask\n",
      "Mask\n",
      "Mask\n",
      "Mask\n",
      "Mask\n",
      "Mask\n",
      "Mask\n",
      "Mask\n",
      "No-Mask\n",
      "Mask\n",
      "Mask\n",
      "Mask\n",
      "Mask\n",
      "Mask\n",
      "No-Mask\n",
      "Mask\n",
      "Mask\n",
      "Mask\n",
      "Mask\n",
      "Mask\n",
      "Mask\n",
      "Mask\n",
      "Mask\n",
      "Mask\n",
      "No-Mask\n",
      "Mask\n",
      "No-Mask\n",
      "Mask\n",
      "No-Mask\n",
      "Mask\n",
      "No-Mask\n",
      "Mask\n",
      "No-Mask\n",
      "Mask\n",
      "No-Mask\n",
      "Mask\n",
      "No-Mask\n",
      "Mask\n",
      "Mask\n",
      "Mask\n",
      "No-Mask\n",
      "Mask\n",
      "No-Mask\n",
      "No-Mask\n",
      "Mask\n",
      "No-Mask\n",
      "Mask\n",
      "No-Mask\n",
      "Mask\n",
      "No-Mask\n",
      "Mask\n",
      "No-Mask\n",
      "Mask\n",
      "Mask\n",
      "Mask\n",
      "No-Mask\n",
      "Mask\n",
      "No-Mask\n",
      "Mask\n",
      "Mask\n",
      "No-Mask\n",
      "Mask\n",
      "Mask\n",
      "Mask\n",
      "Mask\n",
      "Mask\n",
      "Mask\n",
      "Mask\n",
      "Mask\n",
      "Mask\n",
      "Mask\n",
      "Mask\n",
      "Mask\n",
      "No-Mask\n",
      "Mask\n",
      "Mask\n",
      "No-Mask\n",
      "Mask\n",
      "No-Mask\n",
      "Mask\n",
      "Mask\n",
      "Mask\n",
      "Mask\n",
      "Mask\n",
      "Mask\n",
      "Mask\n",
      "Mask\n",
      "Mask\n",
      "Mask\n",
      "Mask\n",
      "Mask\n",
      "Mask\n",
      "Mask\n",
      "Mask\n",
      "Mask\n",
      "Mask\n",
      "Mask\n",
      "Mask\n",
      "Mask\n",
      "Mask\n",
      "Mask\n",
      "Mask\n",
      "Mask\n",
      "Mask\n",
      "Mask\n",
      "Mask\n",
      "Mask\n",
      "No-Mask\n",
      "Mask\n",
      "Mask\n",
      "Mask\n",
      "Mask\n",
      "Mask\n",
      "Mask\n",
      "Mask\n",
      "Mask\n",
      "Mask\n",
      "Mask\n",
      "Mask\n",
      "Mask\n",
      "Mask\n",
      "Mask\n",
      "Mask\n",
      "Mask\n",
      "Mask\n",
      "Mask\n",
      "Mask\n",
      "No-Mask\n",
      "Mask\n",
      "Mask\n",
      "Mask\n",
      "Mask\n",
      "Mask\n",
      "Mask\n",
      "Mask\n",
      "Mask\n",
      "Mask\n",
      "Mask\n",
      "Mask\n",
      "Mask\n",
      "Mask\n",
      "Mask\n",
      "Mask\n",
      "Mask\n",
      "Mask\n",
      "Mask\n",
      "Mask\n",
      "Mask\n",
      "Mask\n",
      "Mask\n",
      "Mask\n",
      "Mask\n",
      "Mask\n",
      "Mask\n",
      "Mask\n",
      "Mask\n",
      "Mask\n",
      "Mask\n",
      "Mask\n",
      "No-Mask\n",
      "Mask\n",
      "Mask\n",
      "Mask\n",
      "Mask\n",
      "Mask\n",
      "Mask\n",
      "Mask\n",
      "Mask\n",
      "Mask\n",
      "Mask\n",
      "Mask\n",
      "Mask\n",
      "Mask\n",
      "Mask\n",
      "Mask\n",
      "Mask\n",
      "Mask\n",
      "Mask\n",
      "Mask\n",
      "Mask\n",
      "Mask\n",
      "Mask\n",
      "Mask\n",
      "Mask\n",
      "Mask\n",
      "Mask\n",
      "Mask\n",
      "Mask\n",
      "Mask\n",
      "Mask\n",
      "Mask\n",
      "Mask\n",
      "Mask\n",
      "Mask\n",
      "Mask\n",
      "Mask\n",
      "Mask\n",
      "Mask\n",
      "Mask\n",
      "Mask\n",
      "Mask\n",
      "Mask\n",
      "Mask\n",
      "Mask\n",
      "Mask\n",
      "Mask\n",
      "Mask\n",
      "Mask\n",
      "Mask\n",
      "Mask\n",
      "Mask\n",
      "No-Mask\n",
      "Mask\n",
      "Mask\n",
      "Mask\n",
      "Mask\n",
      "Mask\n",
      "Mask\n",
      "Mask\n",
      "Mask\n",
      "Mask\n",
      "Mask\n",
      "Mask\n",
      "Mask\n",
      "Mask\n",
      "Mask\n",
      "Mask\n",
      "Mask\n",
      "Mask\n",
      "Mask\n",
      "Mask\n",
      "Mask\n",
      "Mask\n",
      "Mask\n",
      "Mask\n",
      "No-Mask\n",
      "Mask\n",
      "Mask\n",
      "Mask\n",
      "Mask\n",
      "Mask\n",
      "Mask\n",
      "Mask\n",
      "Mask\n",
      "Mask\n",
      "Mask\n",
      "Mask\n",
      "Mask\n",
      "Mask\n",
      "Mask\n",
      "Mask\n",
      "Mask\n",
      "Mask\n",
      "Mask\n",
      "Mask\n",
      "Mask\n",
      "Mask\n",
      "Mask\n",
      "Mask\n",
      "Mask\n",
      "Mask\n",
      "Mask\n",
      "Mask\n",
      "Mask\n",
      "Mask\n",
      "Mask\n",
      "Mask\n",
      "Mask\n",
      "Mask\n",
      "Mask\n",
      "Mask\n",
      "Mask\n",
      "Mask\n",
      "Mask\n",
      "Mask\n"
     ]
    }
   ],
   "source": [
    "haar_data = cv2.CascadeClassifier(\"data.xml\")\n",
    "capture = cv2.VideoCapture(0)\n",
    "data =[]\n",
    "font = cv2.FONT_HERSHEY_COMPLEX\n",
    "while True: \n",
    "    flag , img = capture.read()\n",
    "    if flag: \n",
    "        faces = haar_data.detectMultiScale(img)\n",
    "        for x,y,w,h in faces: \n",
    "            cv2.rectangle(img, (x,y),(x+w,y+h),(255,0,255),4)\n",
    "            face = img[y:y+h,x:x+w,:]\n",
    "            face = cv2.resize(face,(50,50))\n",
    "            face = face.reshape(1,-1)\n",
    "            face = pca.transform(face)\n",
    "            pred = svm.predict(face)[0]\n",
    "            n =  names[int(pred)]\n",
    "            cv2.putText(img,n,(x,y),font,1,(244,255,255), 2)\n",
    "            #parameters - imagae name, \n",
    "            print(n)\n",
    "        cv2. imshow('result',img)\n",
    "        #27- Ascii number\n",
    "        if cv2.waitKey(2) == 27 : \n",
    "            break;\n",
    "    \n",
    "capture.release()\n",
    "cv2.destroyAllWindows()"
   ]
  },
  {
   "cell_type": "code",
   "execution_count": null,
   "metadata": {},
   "outputs": [],
   "source": []
  }
 ],
 "metadata": {
  "colab": {
   "collapsed_sections": [],
   "name": "Face detection.ipynb",
   "provenance": []
  },
  "kernelspec": {
   "display_name": "Python 3",
   "language": "python",
   "name": "python3"
  },
  "language_info": {
   "codemirror_mode": {
    "name": "ipython",
    "version": 3
   },
   "file_extension": ".py",
   "mimetype": "text/x-python",
   "name": "python",
   "nbconvert_exporter": "python",
   "pygments_lexer": "ipython3",
   "version": "3.6.8"
  }
 },
 "nbformat": 4,
 "nbformat_minor": 1
}
